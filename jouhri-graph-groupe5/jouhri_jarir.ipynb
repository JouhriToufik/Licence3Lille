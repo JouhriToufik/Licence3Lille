{
  "nbformat": 4,
  "nbformat_minor": 0,
  "metadata": {
    "kernelspec": {
      "display_name": "Python 3",
      "language": "python",
      "name": "python3"
    },
    "language_info": {
      "codemirror_mode": {
        "name": "ipython",
        "version": 3
      },
      "file_extension": ".py",
      "mimetype": "text/x-python",
      "name": "python",
      "nbconvert_exporter": "python",
      "pygments_lexer": "ipython3",
      "version": "3.8.5-final"
    },
    "colab": {
      "name": "Projet-graphes_Tahtaoui-Bekkouche (1).ipynb",
      "provenance": []
    }
  },
  "cells": [
    {
      "cell_type": "code",
      "metadata": {
        "id": "C4JRkwdKN5Lm"
      },
      "source": [
        "import networkx as nx\n",
        "import matplotlib.pyplot as plt\n",
        "import numpy\n",
        "from networkx.algorithms.flow import shortest_augmenting_path"
      ],
      "execution_count": 1,
      "outputs": []
    },
    {
      "cell_type": "code",
      "metadata": {
        "id": "XT3VtNf_N5Ls"
      },
      "source": [
        "class FlowNet:\n",
        "    def __init__(self, x):\n",
        "        self.x = x      \n",
        "        data = open('%s' % x, \"r\")\n",
        "        global G\n",
        "        G = nx.nx.parse_edgelist(data, delimiter=';', create_using=nx.DiGraph(),nodetype=str, data=(('capacity', int),))\n",
        "        pos = nx.spring_layout(G)\n",
        "\n",
        "    def compute_max_flow(self): \n",
        "        global flow_value \n",
        "        self.flow_value, self.flow_dict = nx.maximum_flow(G, \"s\", \"t\")\n",
        "        for e in G.edges :   \n",
        "            G[e[0]][e[1]]['flow'] = (self.flow_dict[e[0]][e[1]])\n",
        "\n",
        "    def get_flow(self):\n",
        "        return  self.flow_value\n",
        "    \n",
        "    def update (self, a, b, c):\n",
        "        oldCapicity = G[a][b][\"capacity\"]\n",
        "        if self.flow_value != 0 :\n",
        "            if c >= 0 :\n",
        "                G[a][b][\"capacity\"] = c\n",
        "                if c > oldCapicity :\n",
        "                    n.betterUse(a, b, c)\n",
        "                else :\n",
        "                    n.compute_max_flow()\n",
        "            else: \n",
        "                return 'erreur ! La valeur doit être positive'\n",
        "    \n",
        "    def betterUse(self, p1, p2, newc):\n",
        "        R = shortest_augmenting_path(G, 's','t')\n",
        "        self.flow_value = R.graph['flow_value']\n",
        "        \n",
        "    def export(self, x):   \n",
        "        self.x = x\n",
        "        pos = nx.random_layout(G)\n",
        "        node_colors=[ 'lightgrey' for _ in G.nodes() ]\n",
        "        node_colors[0]='lightgreen' \n",
        "        node_colors[G.order()-1]='red'\n",
        "        labels={ e : '{}|{}'.format(G[e[0]][e[1]]['flow'],G[e[0]][e[1]]['capacity']) for e in G.edges}\n",
        "        nx.draw_networkx(G, pos=pos, node_color=node_colors)\n",
        "        nx.draw_networkx_edge_labels(G, pos=pos, edge_labels=labels)\n",
        "        plt.savefig('%s' % x)"
      ],
      "execution_count": 2,
      "outputs": []
    },
    {
      "cell_type": "code",
      "metadata": {
        "colab": {
          "base_uri": "https://localhost:8080/",
          "height": 282
        },
        "id": "oqkPNVKvN5Ls",
        "outputId": "23c7e2ed-33eb-44b5-96a7-d00b9c1aa809"
      },
      "source": [
        "n = FlowNet('fig42.csv')"
      ],
      "execution_count": 5,
      "outputs": []
    },
    {
      "cell_type": "code",
      "metadata": {
        "id": "tc0VbyGkOYNv"
      },
      "source": [],
      "execution_count": null,
      "outputs": []
    },
    {
      "cell_type": "code",
      "metadata": {
        "id": "uDww6tOtN5Lt"
      },
      "source": [
        "n.compute_max_flow()"
      ],
      "execution_count": null,
      "outputs": []
    },
    {
      "cell_type": "code",
      "metadata": {
        "id": "kiC0pytqN5Lt"
      },
      "source": [
        "n.get_flow()"
      ],
      "execution_count": null,
      "outputs": []
    },
    {
      "cell_type": "code",
      "metadata": {
        "id": "GJ8uBtL6N5Lu"
      },
      "source": [
        "n.update(\"a\",\"c\",9)"
      ],
      "execution_count": null,
      "outputs": []
    },
    {
      "cell_type": "code",
      "metadata": {
        "id": "3mWvUAfRN5Lu"
      },
      "source": [
        "n.get_flow()"
      ],
      "execution_count": null,
      "outputs": []
    },
    {
      "cell_type": "code",
      "metadata": {
        "id": "4U1HUQleN5Lv"
      },
      "source": [
        "n.export('fig42.png')"
      ],
      "execution_count": null,
      "outputs": []
    },
    {
      "cell_type": "code",
      "metadata": {
        "id": "aZjIEef3N5Lv"
      },
      "source": [],
      "execution_count": null,
      "outputs": []
    }
  ]
}